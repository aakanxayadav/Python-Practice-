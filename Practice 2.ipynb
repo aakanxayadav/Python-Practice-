{
 "cells": [
  {
   "cell_type": "code",
   "execution_count": 4,
   "id": "f574cf41",
   "metadata": {},
   "outputs": [
    {
     "name": "stdout",
     "output_type": "stream",
     "text": [
      "A: -89\n",
      "squareroot:  (5.776647398294821e-16+9.433981132056603j)\n"
     ]
    }
   ],
   "source": [
    "x=int(input('A: '))\n",
    "\n",
    "sqrt=x**0.5\n",
    "print('squareroot: ',sqrt)"
   ]
  },
  {
   "cell_type": "code",
   "execution_count": 5,
   "id": "d1ab6730",
   "metadata": {},
   "outputs": [
    {
     "name": "stdout",
     "output_type": "stream",
     "text": [
      "A: 87\n",
      "The square root of 87.000 is  9.327\n"
     ]
    }
   ],
   "source": [
    "x=int(input('A: '))\n",
    "\n",
    "sqrt=x**0.5\n",
    "print('The square root of %.3f is % .3f'%(x,sqrt))"
   ]
  },
  {
   "cell_type": "code",
   "execution_count": 6,
   "id": "2d9b96df",
   "metadata": {},
   "outputs": [
    {
     "name": "stdout",
     "output_type": "stream",
     "text": [
      "Enter first side: 3\n",
      "Enter second side: 4\n",
      "Enter third side: 6\n",
      "The area of the triangle is 5.33\n"
     ]
    }
   ],
   "source": [
    "a=float(input(\"Enter first side: \"))\n",
    "b=float(input(\"Enter second side: \"))\n",
    "c=float(input(\"Enter third side: \"))\n",
    "# Perimeter\n",
    "s=(a+b+c)/2\n",
    "#Area\n",
    "area=(s*(s-a)*(s-b)*(s-c))**0.5\n",
    "print('The area of the triangle is %0.2f' %area)"
   ]
  },
  {
   "cell_type": "code",
   "execution_count": 7,
   "id": "6342f98d",
   "metadata": {},
   "outputs": [
    {
     "name": "stdout",
     "output_type": "stream",
     "text": [
      "Enter value of x:4\n",
      "Enter value of y:5\n",
      "The Value of x after swapping:5\n",
      "The Value of y after swapping:4\n"
     ]
    }
   ],
   "source": [
    "x=input('Enter value of x:')\n",
    "y=input('Enter value of y:')\n",
    "#c is the temp varaible\n",
    "c=x\n",
    "x=y\n",
    "y=c\n",
    "print('The Value of x after swapping:{}'.format(x))\n",
    "print('The Value of y after swapping:{}'.format(y))"
   ]
  },
  {
   "cell_type": "code",
   "execution_count": 13,
   "id": "7ebffb1a",
   "metadata": {},
   "outputs": [
    {
     "name": "stdout",
     "output_type": "stream",
     "text": [
      "2\n"
     ]
    }
   ],
   "source": [
    "import random \n",
    "print (random.randint(0,9))"
   ]
  },
  {
   "cell_type": "code",
   "execution_count": 16,
   "id": "4333be33",
   "metadata": {},
   "outputs": [
    {
     "name": "stdout",
     "output_type": "stream",
     "text": [
      "Enter value in kilometers:54\n",
      "54.00 kilometers is equal to 33.55 miles\n"
     ]
    }
   ],
   "source": [
    "kilometers = float(input(\"Enter value in kilometers:\"))\n",
    "conv_fac=0.621371\n",
    "miles=kilometers*conv_fac\n",
    "print('%0.2f kilometers is equal to %0.2f miles'%(kilometers,miles))"
   ]
  },
  {
   "cell_type": "code",
   "execution_count": 3,
   "id": "dd9a2694",
   "metadata": {},
   "outputs": [
    {
     "name": "stdout",
     "output_type": "stream",
     "text": [
      "Enter value in kilometers:54\n",
      "kilometers is equal to 33.554034 miles\n"
     ]
    }
   ],
   "source": [
    "print('kilometers is equal to', ((0.621371)*(float(input(\"Enter value in kilometers:\")))),'miles')"
   ]
  },
  {
   "cell_type": "code",
   "execution_count": 20,
   "id": "dba133e4",
   "metadata": {},
   "outputs": [
    {
     "name": "stdout",
     "output_type": "stream",
     "text": [
      "Enter a number:5\n",
      "Positive number\n"
     ]
    }
   ],
   "source": [
    "num=float(input(\"Enter a number:\"))\n",
    "if num>0:\n",
    "    print(\"Positive number\")\n",
    "elif num==0:\n",
    "    print(\"Zero\")\n",
    "else:\n",
    "    print(\"Negative Number\")"
   ]
  },
  {
   "cell_type": "code",
   "execution_count": 24,
   "id": "50148738",
   "metadata": {},
   "outputs": [
    {
     "name": "stdout",
     "output_type": "stream",
     "text": [
      "Enter a number:-6\n",
      "Negative Number\n"
     ]
    }
   ],
   "source": [
    "num=float(input(\"Enter a number:\"))\n",
    "if num>=0:\n",
    "    if num==0:\n",
    "        print(\"Zero\")\n",
    "    else:\n",
    "        print(\"Positive Number\")\n",
    "else:\n",
    "    print(\"Negative Number\")"
   ]
  },
  {
   "cell_type": "code",
   "execution_count": 26,
   "id": "41d96eb4",
   "metadata": {},
   "outputs": [
    {
     "name": "stdout",
     "output_type": "stream",
     "text": [
      "Enter a number: 57\n",
      "57 is odd\n"
     ]
    }
   ],
   "source": [
    "num=int(input(\"Enter a number: \"))\n",
    "if (num%2)==0:\n",
    "    print('{0} is Even'.format(num))\n",
    "else:\n",
    "    print('{0} is odd'.format(num))"
   ]
  },
  {
   "cell_type": "code",
   "execution_count": 27,
   "id": "b8bd2956",
   "metadata": {},
   "outputs": [
    {
     "name": "stdout",
     "output_type": "stream",
     "text": [
      "Enter value of x:4\n",
      "Enter value of y:5\n",
      "Enter value of z:6\n",
      "6 is the largest number\n"
     ]
    }
   ],
   "source": [
    "x=int(input('Enter value of x:'))\n",
    "y=int(input('Enter value of y:'))\n",
    "z=int(input('Enter value of z:'))\n",
    "\n",
    "if x>y and x>z:\n",
    "    print(x,'is the largest number')\n",
    "elif y>x and y>z:\n",
    "    print(y,'is the largest number')\n",
    "else:\n",
    "    print(z,'is the largest number')"
   ]
  },
  {
   "cell_type": "code",
   "execution_count": 4,
   "id": "910a9c3a",
   "metadata": {},
   "outputs": [
    {
     "name": "stdout",
     "output_type": "stream",
     "text": [
      "Enter a number:3\n",
      "The factorial of 3 is 6\n"
     ]
    }
   ],
   "source": [
    "def factorial(x):\n",
    "    if x==1:\n",
    "        return 1\n",
    "    else:\n",
    "        return(x*factorial(x-1))\n",
    "num=int(input(\"Enter a number:\"))\n",
    "result=factorial(num)\n",
    "print(\"The factorial of\", num, \"is\", result)"
   ]
  },
  {
   "cell_type": "code",
   "execution_count": 30,
   "id": "19cc4571",
   "metadata": {},
   "outputs": [
    {
     "name": "stdout",
     "output_type": "stream",
     "text": [
      "Enter a number:5\n",
      "The factorial of 5 is 120\n"
     ]
    }
   ],
   "source": [
    "import math\n",
    "\n",
    "num=int(input(\"Enter a number:\"))\n",
    "result=math.factorial(num)\n",
    "print(\"The factorial of\", num, \"is\", result)"
   ]
  },
  {
   "cell_type": "code",
   "execution_count": 2,
   "id": "42011e62",
   "metadata": {},
   "outputs": [
    {
     "name": "stdout",
     "output_type": "stream",
     "text": [
      "Base Value: 4\n",
      "How many terms?: 3\n",
      "The total terms are: 3\n",
      "4 raised to power 0 is 1\n",
      "4 raised to power 1 is 4\n",
      "4 raised to power 2 is 16\n"
     ]
    }
   ],
   "source": [
    "a=int(input(\"Base Value: \"))\n",
    "terms=int(input(\"How many terms?: \"))\n",
    "result= list(map(lambda x:a**x,range(terms)))\n",
    "print(\"The total terms are:\", terms)\n",
    "for i in range(terms):\n",
    "    print(a,\"raised to power\",i,\"is\",result[i])"
   ]
  },
  {
   "cell_type": "code",
   "execution_count": 36,
   "id": "ce55c3eb",
   "metadata": {},
   "outputs": [
    {
     "name": "stdout",
     "output_type": "stream",
     "text": [
      "Numbers divisible by 2 are [12, 34, 56, 78, 90, 82, 74]\n"
     ]
    }
   ],
   "source": [
    "mylist=[12,23,34,45,56,67,78,89,90,91,82,73,74,65]\n",
    "result=list(filter(lambda x:(x%2==0),mylist))\n",
    "print(\"Numbers divisible by 2 are\",result)"
   ]
  },
  {
   "cell_type": "code",
   "execution_count": 38,
   "id": "98964f94",
   "metadata": {},
   "outputs": [
    {
     "name": "stdout",
     "output_type": "stream",
     "text": [
      "The decimal value of 344 is:\n",
      "0b101011000 in binary.\n",
      "0o530 in octal.\n",
      "0x158 in hexadecimal.\n"
     ]
    }
   ],
   "source": [
    "dec=344\n",
    "print(\"The decimal value of\",dec,\"is:\")\n",
    "print(bin(dec),\"in binary.\")\n",
    "print(oct(dec),\"in octal.\")\n",
    "print(hex(dec),\"in hexadecimal.\")"
   ]
  },
  {
   "cell_type": "code",
   "execution_count": 1,
   "id": "fbd6f0bb",
   "metadata": {},
   "outputs": [
    {
     "name": "stdout",
     "output_type": "stream",
     "text": [
      "Display multiplication table of? 20\n",
      "20 x 1 = 20\n",
      "20 x 2 = 40\n",
      "20 x 3 = 60\n",
      "20 x 4 = 80\n",
      "20 x 5 = 100\n",
      "20 x 6 = 120\n",
      "20 x 7 = 140\n",
      "20 x 8 = 160\n",
      "20 x 9 = 180\n",
      "20 x 10 = 200\n"
     ]
    }
   ],
   "source": [
    "num=int(input(\"Display multiplication table of? \"))\n",
    "for i in range(1,11):\n",
    "    print(num,'x',i,'=',num*i)"
   ]
  },
  {
   "cell_type": "code",
   "execution_count": 3,
   "id": "82fa7fb5",
   "metadata": {},
   "outputs": [
    {
     "name": "stdout",
     "output_type": "stream",
     "text": [
      "Enter Year: 2023\n",
      "Enter Month: 8\n",
      "    August 2023\n",
      "Mo Tu We Th Fr Sa Su\n",
      "    1  2  3  4  5  6\n",
      " 7  8  9 10 11 12 13\n",
      "14 15 16 17 18 19 20\n",
      "21 22 23 24 25 26 27\n",
      "28 29 30 31\n",
      "\n"
     ]
    }
   ],
   "source": [
    "import calendar\n",
    "yy=int(input(\"Enter Year: \"))\n",
    "mm=int(input(\"Enter Month: \"))\n",
    "print(calendar.month(yy,mm))\n"
   ]
  },
  {
   "cell_type": "code",
   "execution_count": 44,
   "id": "85a7ac53",
   "metadata": {},
   "outputs": [
    {
     "name": "stdout",
     "output_type": "stream",
     "text": [
      "The string is not palindrome\n"
     ]
    }
   ],
   "source": [
    "mystr='alBhoPhoBia'\n",
    "mystr=mystr.casefold()\n",
    "revstr=reversed(mystr)\n",
    "if list(mystr)==list(revstr):\n",
    "    print(\"The string is palindrome\")\n",
    "else:\n",
    "    print(\"The string is not palindrome\")"
   ]
  },
  {
   "cell_type": "code",
   "execution_count": 7,
   "id": "4a36f6af",
   "metadata": {},
   "outputs": [
    {
     "name": "stdout",
     "output_type": "stream",
     "text": [
      "Hello he said and went\n"
     ]
    }
   ],
   "source": [
    "punctuations=\"'!()-[]{};:\\,<>./?@#$%^&*_~'\"\n",
    "mystr=\"Hello!!!, he said--- and went.\"\n",
    "no_punct=\"\"\n",
    "for char in mystr:\n",
    "    if char not in punctuations:\n",
    "        no_punct=no_punct+char\n",
    "print (no_punct)"
   ]
  }
 ],
 "metadata": {
  "kernelspec": {
   "display_name": "Python 3",
   "language": "python",
   "name": "python3"
  },
  "language_info": {
   "codemirror_mode": {
    "name": "ipython",
    "version": 3
   },
   "file_extension": ".py",
   "mimetype": "text/x-python",
   "name": "python",
   "nbconvert_exporter": "python",
   "pygments_lexer": "ipython3",
   "version": "3.8.8"
  }
 },
 "nbformat": 4,
 "nbformat_minor": 5
}
