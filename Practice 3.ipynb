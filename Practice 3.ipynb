{
 "cells": [
  {
   "cell_type": "code",
   "execution_count": 3,
   "id": "fdf75d72",
   "metadata": {},
   "outputs": [
    {
     "name": "stdout",
     "output_type": "stream",
     "text": [
      "7\n",
      "5\n"
     ]
    }
   ],
   "source": [
    "#higher order functioning\n",
    "def add(x):\n",
    "    return x+1\n",
    "def multiply(x):\n",
    "    return x*1\n",
    "def apply(func,x):\n",
    "    return func(x)\n",
    "result1 = apply(add,6)\n",
    "result2 = apply(multiply,5)\n",
    "print(result1)\n",
    "print(result2)"
   ]
  },
  {
   "cell_type": "code",
   "execution_count": 4,
   "id": "20fcb977",
   "metadata": {},
   "outputs": [
    {
     "name": "stdout",
     "output_type": "stream",
     "text": [
      "empty tuple: ()\n"
     ]
    }
   ],
   "source": [
    "#to create an empty tuple\n",
    "empty_tuple=()\n",
    "print(\"empty tuple:\",empty_tuple)\n"
   ]
  },
  {
   "cell_type": "code",
   "execution_count": 5,
   "id": "fdb9e9da",
   "metadata": {},
   "outputs": [
    {
     "name": "stdout",
     "output_type": "stream",
     "text": [
      "tuples with integers (4, 6, 8, 10, 12, 14)\n"
     ]
    }
   ],
   "source": [
    "#creating tuple having integers\n",
    "int_tuple=(4,6,8,10,12,14)\n",
    "print(\"tuples with integers\",int_tuple)"
   ]
  },
  {
   "cell_type": "code",
   "execution_count": 6,
   "id": "a8616911",
   "metadata": {},
   "outputs": [],
   "source": [
    "#creating tuple objects of different data types\n"
   ]
  },
  {
   "cell_type": "code",
   "execution_count": 24,
   "id": "3299c17b",
   "metadata": {},
   "outputs": [
    {
     "name": "stdout",
     "output_type": "stream",
     "text": [
      "a\n",
      "b\n",
      "tuple index out of range\n"
     ]
    }
   ],
   "source": [
    "#program to show how to access tuple elements\n",
    "tuple_ = (\"a\",\"b\",\"c\",\"d\")\n",
    "print(tuple_[0])\n",
    "print(tuple_[1])\n",
    "try:\n",
    "    print(tuple_[5])\n",
    "except Exception as e:\n",
    "    print(e)"
   ]
  },
  {
   "cell_type": "code",
   "execution_count": 17,
   "id": "6b169140",
   "metadata": {},
   "outputs": [
    {
     "name": "stdout",
     "output_type": "stream",
     "text": [
      "tuple indices must be integers or slices, not float\n"
     ]
    }
   ],
   "source": [
    "#trying to access elements through the index of floating data type\n",
    "try:\n",
    "    print(tuple_[1.0])\n",
    "except Exception as e:\n",
    "    print(e)"
   ]
  },
  {
   "cell_type": "code",
   "execution_count": 25,
   "id": "370d0a11",
   "metadata": {},
   "outputs": [
    {
     "name": "stdout",
     "output_type": "stream",
     "text": [
      "p\n",
      "2\n"
     ]
    }
   ],
   "source": [
    "#creating a nested tuple\n",
    "nested_tuple=(\"Tuple\",[4,6,2,6],(6,2,6,7))\n",
    "print(nested_tuple[0][2])\n",
    "print(nested_tuple[1][2])"
   ]
  },
  {
   "cell_type": "code",
   "execution_count": 26,
   "id": "69b57e66",
   "metadata": {},
   "outputs": [
    {
     "name": "stdout",
     "output_type": "stream",
     "text": [
      "Element at -1 index: Collection\n",
      "Elements between -4 and -1 are: ('Python', 'Tuple', 'Ordered')\n"
     ]
    }
   ],
   "source": [
    "#python program to show how negative indexing works :\n",
    "tuple_=(\"Python\",\"Tuple\",\"Ordered\",\"Collection\")\n",
    "print(\"Element at -1 index:\",tuple_[-1])\n",
    "print(\"Elements between -4 and -1 are:\",tuple_[-4:-1])"
   ]
  },
  {
   "cell_type": "code",
   "execution_count": 29,
   "id": "86746f85",
   "metadata": {},
   "outputs": [
    {
     "name": "stdout",
     "output_type": "stream",
     "text": [
      "Elements between indices 1 and 3: ('Tuple', 'Ordered')\n",
      "Elements between indices 0 and -4: ('Python', 'Tuple')\n",
      "Entire tuple: ('Python', 'Tuple', 'Ordered', 'Immutable', 'Collection', 'Objects')\n"
     ]
    }
   ],
   "source": [
    "#How slicing works\n",
    "tuple_=(\"Python\",\"Tuple\",\"Ordered\",\"Immutable\",\"Collection\",\"Objects\")\n",
    "print(\"Elements between indices 1 and 3:\",tuple_[1:3])\n",
    "print(\"Elements between indices 0 and -4:\",tuple_[:-4])\n",
    "print(\"Entire tuple:\",tuple_[:])"
   ]
  },
  {
   "cell_type": "code",
   "execution_count": 33,
   "id": "e09fb98c",
   "metadata": {},
   "outputs": [
    {
     "name": "stdout",
     "output_type": "stream",
     "text": [
      "'tuple' object doesn't support item deletion\n"
     ]
    }
   ],
   "source": [
    "#deleting the elements of python tuple\n",
    "tuple_=(\"Python\",\"Tuple\",\"Ordered\",\"Immutable\",\"Collection\",\"Objects\")\n",
    "try:\n",
    "    del tuple_[3]\n",
    "    print(tuple_)\n",
    "except Exception as e:\n",
    "    print(e)\n"
   ]
  },
  {
   "cell_type": "code",
   "execution_count": 35,
   "id": "5bf26fe9",
   "metadata": {},
   "outputs": [
    {
     "name": "stdout",
     "output_type": "stream",
     "text": [
      "Original tuple is: ('Python', 'Tuples')\n",
      "New tuple is: ('Python', 'Tuples', 'Python', 'Tuples', 'Python', 'Tuples')\n"
     ]
    }
   ],
   "source": [
    "#repetition in tuples\n",
    "tuple_=(\"Python\",\"Tuples\")\n",
    "print(\"Original tuple is:\",tuple_)\n",
    "tuple_=tuple_*3\n",
    "print(\"New tuple is:\",tuple_)"
   ]
  },
  {
   "cell_type": "code",
   "execution_count": 36,
   "id": "bad71296",
   "metadata": {},
   "outputs": [
    {
     "name": "stdout",
     "output_type": "stream",
     "text": [
      "Count of 2 in T1 is: 3\n",
      "Count of java in T2 is: 0\n"
     ]
    }
   ],
   "source": [
    "#creating tuples\n",
    "T1=(0,1,2,3,3,2,2,5,6,7,3,4)\n",
    "T2=('python','java','python','HTML','java','python')\n",
    "res= T1.count(2)\n",
    "print('Count of 2 in T1 is:',res)\n",
    "res= T1.count('java')\n",
    "print('Count of java in T2 is:',res)\n"
   ]
  },
  {
   "cell_type": "code",
   "execution_count": 37,
   "id": "733510d1",
   "metadata": {},
   "outputs": [
    {
     "name": "stdout",
     "output_type": "stream",
     "text": [
      "First occurence of 1 is 3\n",
      "First occurence of 1 after 4th index is: 10\n"
     ]
    }
   ],
   "source": [
    "#creating tuple\n",
    "Tuple_data=(0,1,2,3,3,1,2,5,6,7,3,4)\n",
    "res=Tuple_data.index(3)\n",
    "print('First occurence of 1 is',res)\n",
    "res=Tuple_data.index(3,5)\n",
    "print('First occurence of 1 after 4th index is:',res)"
   ]
  },
  {
   "cell_type": "code",
   "execution_count": 38,
   "id": "c35ad233",
   "metadata": {},
   "outputs": [
    {
     "name": "stdout",
     "output_type": "stream",
     "text": [
      "True\n",
      "False\n",
      "False\n",
      "True\n"
     ]
    }
   ],
   "source": [
    "#performing membership test for tuples\n",
    "tuple_=(\"Python\",\"Tuple\",\"Ordered\",\"Immutable\",\"Collection\",\"Objects\")\n",
    "print('Tuple'in tuple_)\n",
    "print('items'in tuple_)\n",
    "print('Immutable'not in tuple_)\n",
    "print('Items'not in tuple_)"
   ]
  },
  {
   "cell_type": "code",
   "execution_count": 39,
   "id": "66a4dced",
   "metadata": {},
   "outputs": [
    {
     "name": "stdout",
     "output_type": "stream",
     "text": [
      "Python\n",
      "Tuple\n",
      "Ordered\n",
      "Immutable\n"
     ]
    }
   ],
   "source": [
    "#python to show how to iterate over tuple elements\n",
    "tuple_=(\"Python\",\"Tuple\",\"Ordered\",\"Immutable\")\n",
    "for item in tuple_:\n",
    "    print(item)"
   ]
  },
  {
   "cell_type": "code",
   "execution_count": 40,
   "id": "c74ca54c",
   "metadata": {},
   "outputs": [
    {
     "name": "stdout",
     "output_type": "stream",
     "text": [
      "('Python', 'Tuple', 'Ordered', 'Immutable', 4, 5, 6)\n"
     ]
    }
   ],
   "source": [
    "#python program to show how to concatenate tuples\n",
    "tuple_=(\"Python\",\"Tuple\",\"Ordered\",\"Immutable\")\n",
    "print(tuple_+(4,5,6))"
   ]
  },
  {
   "cell_type": "code",
   "execution_count": 41,
   "id": "58ff225e",
   "metadata": {},
   "outputs": [
    {
     "name": "stdout",
     "output_type": "stream",
     "text": [
      "{'Thursday', 'Sunday', 'Tuesday', 'Wednesday', 'Saturday', 'Monday', 'Friday'}\n",
      "<class 'set'>\n",
      "Looping through the set elements...\n",
      "Thursday\n",
      "Sunday\n",
      "Tuesday\n",
      "Wednesday\n",
      "Saturday\n",
      "Monday\n",
      "Friday\n",
      "<class 'dict'>\n",
      "<class 'set'>\n"
     ]
    }
   ],
   "source": [
    "Days=set([\"Monday\",\"Tuesday\",\"Wednesday\",\"Thursday\",\"Friday\",\"Saturday\",\"Sunday\"])\n",
    "print(Days)\n",
    "print(type(Days))\n",
    "print(\"Looping through the set elements...\")\n",
    "for i in Days:\n",
    "    print(i)\n",
    "set3= {}\n",
    "print(type(set3))\n",
    "set4=set()\n",
    "print(type(set4))"
   ]
  },
  {
   "cell_type": "code",
   "execution_count": 44,
   "id": "53723013",
   "metadata": {},
   "outputs": [
    {
     "name": "stdout",
     "output_type": "stream",
     "text": [
      "/nprinting the original set...\n",
      "{'Mar', 'Jan', 'Feb', 'May', 'Apr', 'June'}\n",
      "/nAdding other months to the set...\n",
      "/nPrinting the modified set...\n",
      "{'Mar', 'Jan', 'August', 'July', 'Feb', 'May', 'Apr', 'June'}\n",
      "/nlooping through the set elements...\n",
      "Mar\n",
      "Jan\n",
      "August\n",
      "July\n",
      "Feb\n",
      "May\n",
      "Apr\n",
      "June\n"
     ]
    }
   ],
   "source": [
    "Months=set([\"Jan\",\"Feb\",\"Mar\",\"Apr\",\"May\",\"June\"])\n",
    "print(\"/nprinting the original set...\")\n",
    "print(Months)\n",
    "print(\"/nAdding other months to the set...\");\n",
    "Months.add(\"July\");\n",
    "Months.add(\"August\");\n",
    "print(\"/nPrinting the modified set...\")\n",
    "print(Months)\n",
    "print(\"/nlooping through the set elements...\")\n",
    "for i in Months:\n",
    "    print(i)"
   ]
  },
  {
   "cell_type": "code",
   "execution_count": 45,
   "id": "5b7c84e0",
   "metadata": {},
   "outputs": [
    {
     "name": "stdout",
     "output_type": "stream",
     "text": [
      "/nprinting the original set...\n",
      "{'Mar', 'Jan', 'Feb', 'May', 'Apr', 'June'}\n",
      "/nupdating the original set...\n",
      "{'Sep', 'Aug', 'Mar', 'Jan', 'Oct', 'July', 'Feb', 'May', 'Apr', 'June'}\n"
     ]
    }
   ],
   "source": [
    "Months=set([\"Jan\",\"Feb\",\"Mar\",\"Apr\",\"May\",\"June\"])\n",
    "print(\"/nprinting the original set...\")\n",
    "print(Months)\n",
    "print(\"/nupdating the original set...\")\n",
    "Months.update([\"July\",\"Aug\",\"Sep\",\"Oct\"])\n",
    "print(Months)"
   ]
  },
  {
   "cell_type": "code",
   "execution_count": 46,
   "id": "c8e0d4d1",
   "metadata": {},
   "outputs": [
    {
     "name": "stdout",
     "output_type": "stream",
     "text": [
      "/nprinting the original set...\n",
      "{'Sep', 'Aug', 'Mar', 'Jan', 'Oct', 'July', 'Feb', 'May', 'Apr', 'June'}\n",
      "/nRemoving some months from the set...\n",
      "/nPrinting the modified set...\n",
      "{'Mar', 'Jan', 'Feb', 'Apr', 'June'}\n",
      "/nlooping through the set elements...\n",
      "Mar\n",
      "Jan\n",
      "Feb\n",
      "Apr\n",
      "June\n"
     ]
    }
   ],
   "source": [
    "months=set([\"Jan\",\"Feb\",\"Mar\",\"Apr\",\"May\",\"June\"])\n",
    "print(\"/nprinting the original set...\")\n",
    "print(Months)\n",
    "print(\"/nRemoving some months from the set...\");\n",
    "months.discard(\"January\");\n",
    "months.discard(\"May\");\n",
    "print(\"/nPrinting the modified set...\")\n",
    "print(months)\n",
    "print(\"/nlooping through the set elements...\")\n",
    "for i in months:\n",
    "    print(i)"
   ]
  },
  {
   "cell_type": "code",
   "execution_count": 47,
   "id": "82a73691",
   "metadata": {},
   "outputs": [
    {
     "name": "stdout",
     "output_type": "stream",
     "text": [
      "{'Fri', 'Wed', 'Mon', 'Sat', 'Tue', 'Thur', 'Sun'}\n"
     ]
    }
   ],
   "source": [
    "#union intersection\n",
    "Days1={\"Mon\",\"Tue\",\"Wed\",\"Thur\",\"Sun\"}\n",
    "Days2={\"Fri\",\"Sat\",\"Sun\"}\n",
    "print(Days1|Days2)\n"
   ]
  },
  {
   "cell_type": "code",
   "execution_count": 48,
   "id": "b7a7ac36",
   "metadata": {},
   "outputs": [
    {
     "name": "stdout",
     "output_type": "stream",
     "text": [
      "{'Mon', 'Thur', 'Wed', 'Tue'}\n"
     ]
    }
   ],
   "source": [
    "#difference\n",
    "Days1={\"Mon\",\"Tue\",\"Wed\",\"Thur\",\"Sun\"}\n",
    "Days2={\"Fri\",\"Sat\",\"Sun\"}\n",
    "print(Days1-Days2)"
   ]
  },
  {
   "cell_type": "code",
   "execution_count": 49,
   "id": "c0286015",
   "metadata": {},
   "outputs": [
    {
     "name": "stdout",
     "output_type": "stream",
     "text": [
      "True\n",
      "False\n",
      "False\n"
     ]
    }
   ],
   "source": [
    "#superset and subset\n",
    "Days1={\"mon\",\"tue\",\"wed\",\"thur\"}\n",
    "Days2={\"mon\",\"tue\"}\n",
    "Days3={\"mon\",\"tue\",\"fri\"}\n",
    "#superset\n",
    "print(Days1>Days2)\n",
    "#subset\n",
    "print(Days1<Days2)\n",
    "#not equivalent\n",
    "print(Days1==Days2)"
   ]
  },
  {
   "cell_type": "markdown",
   "id": "e4bae8e6",
   "metadata": {},
   "source": [
    "\n",
    "# NUMPY"
   ]
  },
  {
   "cell_type": "code",
   "execution_count": 50,
   "id": "68c35386",
   "metadata": {},
   "outputs": [
    {
     "name": "stdout",
     "output_type": "stream",
     "text": [
      "1.20.1\n"
     ]
    }
   ],
   "source": [
    "#to check the version\n",
    "import numpy as np\n",
    "print(np.__version__)"
   ]
  },
  {
   "cell_type": "code",
   "execution_count": 51,
   "id": "b7e66048",
   "metadata": {},
   "outputs": [
    {
     "name": "stdout",
     "output_type": "stream",
     "text": [
      "[1 2 3 4 5]\n"
     ]
    }
   ],
   "source": [
    "#to check installation\n",
    "import numpy as np\n",
    "arr= np.array([1,2,3,4,5])\n",
    "print(arr)"
   ]
  },
  {
   "cell_type": "code",
   "execution_count": 53,
   "id": "584dc5b6",
   "metadata": {},
   "outputs": [
    {
     "name": "stdout",
     "output_type": "stream",
     "text": [
      "<class 'numpy.ndarray'>\n"
     ]
    }
   ],
   "source": [
    "#for checking type\n",
    "import numpy as np\n",
    "arr=np.array([1,2,3,4,5])\n",
    "print(type(arr))"
   ]
  },
  {
   "cell_type": "markdown",
   "id": "9f828d88",
   "metadata": {},
   "source": [
    "# use  a tuple to create a Numpy array:"
   ]
  },
  {
   "cell_type": "code",
   "execution_count": 54,
   "id": "b90d8f5a",
   "metadata": {},
   "outputs": [
    {
     "name": "stdout",
     "output_type": "stream",
     "text": [
      "[1 2 3 4 5]\n"
     ]
    }
   ],
   "source": [
    "#1-D array\n",
    "import numpy as np\n",
    "arr = np.array((1,2,3,4,5))\n",
    "print(arr)"
   ]
  },
  {
   "cell_type": "code",
   "execution_count": 55,
   "id": "50664ad2",
   "metadata": {},
   "outputs": [
    {
     "name": "stdout",
     "output_type": "stream",
     "text": [
      "42\n"
     ]
    }
   ],
   "source": [
    "import numpy as np\n",
    "arr=np.array(42)\n",
    "print(arr)"
   ]
  },
  {
   "cell_type": "code",
   "execution_count": 58,
   "id": "00ea1f99",
   "metadata": {},
   "outputs": [
    {
     "name": "stdout",
     "output_type": "stream",
     "text": [
      "[[1 2 3]\n",
      " [4 5 6]]\n"
     ]
    }
   ],
   "source": [
    "#2-D array \n",
    "import numpy as np\n",
    "arr=np.array([[1,2,3],[4,5,6]])\n",
    "print(arr)"
   ]
  },
  {
   "cell_type": "code",
   "execution_count": 60,
   "id": "e9551c81",
   "metadata": {},
   "outputs": [
    {
     "name": "stdout",
     "output_type": "stream",
     "text": [
      "[[[1 2 3]\n",
      "  [4 5 6]]\n",
      "\n",
      " [[1 2 3]\n",
      "  [4 5 6]]]\n"
     ]
    }
   ],
   "source": [
    "#3-D array\n",
    "import numpy as np\n",
    "arr=np.array([[[1, 2, 3],[4, 5, 6]],[[1, 2, 3],[4, 5, 6]]])\n",
    "print(arr)"
   ]
  },
  {
   "cell_type": "code",
   "execution_count": 67,
   "id": "a1039dd0",
   "metadata": {},
   "outputs": [
    {
     "name": "stdout",
     "output_type": "stream",
     "text": [
      "[[[[[1 2 3 4]]]]]\n",
      "number of dimensions: 5\n"
     ]
    }
   ],
   "source": [
    "#5-D Array\n",
    "import numpy as np\n",
    "arr=np.array([1,2,3,4], ndmin=5)\n",
    "\n",
    "print(arr)\n",
    "print('number of dimensions:',arr.ndim)"
   ]
  },
  {
   "cell_type": "code",
   "execution_count": 68,
   "id": "f08bb9e8",
   "metadata": {},
   "outputs": [
    {
     "name": "stdout",
     "output_type": "stream",
     "text": [
      "1\n"
     ]
    }
   ],
   "source": [
    "#GET THE FIRST ELEMENT FROM ARRAY\n",
    "import numpy as np\n",
    "arr = np.array([1,2,3,4])\n",
    "print(arr[0])"
   ]
  },
  {
   "cell_type": "code",
   "execution_count": 69,
   "id": "e760babb",
   "metadata": {},
   "outputs": [
    {
     "name": "stdout",
     "output_type": "stream",
     "text": [
      "7\n"
     ]
    }
   ],
   "source": [
    "#getting 3rd and 4th elements from array\n",
    "import numpy as np\n",
    "arr = np.array([1,2,3,4])\n",
    "print(arr[2]+arr[3])"
   ]
  },
  {
   "cell_type": "code",
   "execution_count": 70,
   "id": "0f42fd88",
   "metadata": {},
   "outputs": [
    {
     "name": "stdout",
     "output_type": "stream",
     "text": [
      "2nd element on 1st row: 2\n"
     ]
    }
   ],
   "source": [
    "#access the element on the first row,second column:\n",
    "import numpy as np\n",
    "arr = np.array([[1,2,3,4,5],[6,7,8,9,10]])\n",
    "print('2nd element on 1st row:',arr[0,1])"
   ]
  },
  {
   "cell_type": "code",
   "execution_count": 76,
   "id": "429742b6",
   "metadata": {},
   "outputs": [
    {
     "name": "stdout",
     "output_type": "stream",
     "text": [
      "[2 3 4 5]\n"
     ]
    }
   ],
   "source": [
    "#slicing\n",
    "arr = np.array([1,2,3,4,5,6,7])\n",
    "print(arr[1:5])"
   ]
  },
  {
   "cell_type": "code",
   "execution_count": 78,
   "id": "ee7a145d",
   "metadata": {},
   "outputs": [
    {
     "name": "stdout",
     "output_type": "stream",
     "text": [
      "[2 4]\n"
     ]
    }
   ],
   "source": [
    "#return every element from 1 to 5:\n",
    "arr = np.array([1,2,3,4,5,6,7])\n",
    "print(arr[1:5:2])"
   ]
  },
  {
   "cell_type": "code",
   "execution_count": 79,
   "id": "9cc88c48",
   "metadata": {},
   "outputs": [
    {
     "name": "stdout",
     "output_type": "stream",
     "text": [
      "[1 3 5 7]\n"
     ]
    }
   ],
   "source": [
    "#return every element from the entire array:\n",
    "arr = np.array([1,2,3,4,5,6,7])\n",
    "print(arr[::2])"
   ]
  },
  {
   "cell_type": "markdown",
   "id": "a707b250",
   "metadata": {},
   "source": [
    "\n",
    "# Data types in NumPy\n"
   ]
  },
  {
   "cell_type": "code",
   "execution_count": 1,
   "id": "dcf98839",
   "metadata": {},
   "outputs": [
    {
     "name": "stdout",
     "output_type": "stream",
     "text": [
      "[1 2 3 4]\n",
      "int32\n"
     ]
    }
   ],
   "source": [
    "#create an array with data type 4 bytes integer:\n",
    "import numpy as np\n",
    "arr= np.array([1,2,3,4],dtype='i4')\n",
    "print(arr)\n",
    "print(arr.dtype)"
   ]
  },
  {
   "cell_type": "code",
   "execution_count": 2,
   "id": "1da9d6be",
   "metadata": {},
   "outputs": [
    {
     "name": "stdout",
     "output_type": "stream",
     "text": [
      "[1 2 3]\n",
      "int32\n"
     ]
    }
   ],
   "source": [
    "#change the data type from float to integer \n",
    "import numpy as np\n",
    "arr=np.array([1.1,2.1,3.1])\n",
    "newarr = arr.astype(int)\n",
    "print(newarr)\n",
    "print(newarr.dtype)"
   ]
  },
  {
   "cell_type": "code",
   "execution_count": 3,
   "id": "d750119f",
   "metadata": {},
   "outputs": [
    {
     "name": "stdout",
     "output_type": "stream",
     "text": [
      "[42  2  3  4  5]\n",
      "[1 2 3 4 5]\n"
     ]
    }
   ],
   "source": [
    "#make a copy changing original array\n",
    "arr = np.array([1,2,3,4,5])\n",
    "x=arr.copy()\n",
    "arr[0] = 42\n",
    "print(arr)\n",
    "print(x)"
   ]
  },
  {
   "cell_type": "code",
   "execution_count": 4,
   "id": "41faddb0",
   "metadata": {},
   "outputs": [
    {
     "name": "stdout",
     "output_type": "stream",
     "text": [
      "[1 2 3]\n",
      "[4 5 6]\n"
     ]
    }
   ],
   "source": [
    "#iteration in 2-D array\n",
    "arr= np.array([[1,2,3,],[4,5,6]])\n",
    "for x in arr:\n",
    "    print(x)"
   ]
  },
  {
   "cell_type": "code",
   "execution_count": 5,
   "id": "5b24646b",
   "metadata": {},
   "outputs": [
    {
     "name": "stdout",
     "output_type": "stream",
     "text": [
      "1\n",
      "3\n",
      "5\n",
      "7\n"
     ]
    }
   ],
   "source": [
    "#iterate through every scaler element of the 2D array skipping 1 element\n",
    "arr=np.array([[1,2,3,4],[5,6,7,8]])\n",
    "for x in np.nditer(arr[:, ::2]):\n",
    "    print(x)"
   ]
  },
  {
   "cell_type": "code",
   "execution_count": 8,
   "id": "d67b71d7",
   "metadata": {},
   "outputs": [
    {
     "name": "stdout",
     "output_type": "stream",
     "text": [
      "[[1 4]\n",
      " [2 5]\n",
      " [3 6]]\n"
     ]
    }
   ],
   "source": [
    "#stacking \n",
    "arr1= np.array([1,2,3])\n",
    "arr2= np.array([4,5,6])\n",
    "arr= np.stack((arr1,arr2,), axis=1)\n",
    "print(arr)"
   ]
  },
  {
   "cell_type": "code",
   "execution_count": 9,
   "id": "081b4777",
   "metadata": {},
   "outputs": [
    {
     "name": "stdout",
     "output_type": "stream",
     "text": [
      "[array([1, 2]), array([3, 4]), array([5, 6])]\n"
     ]
    }
   ],
   "source": [
    "#Split the array in 3 parts:\n",
    "arr = np.array([1,2,3,4,5,6])\n",
    "newarr = np.array_split(arr,3)\n",
    "print(newarr)"
   ]
  },
  {
   "cell_type": "code",
   "execution_count": 10,
   "id": "1ef53b55",
   "metadata": {},
   "outputs": [
    {
     "name": "stdout",
     "output_type": "stream",
     "text": [
      "[1 2]\n",
      "[3 4]\n",
      "[5 6]\n"
     ]
    }
   ],
   "source": [
    "#access the splitted arrays:\n",
    "arr = np.array([1,2,3,4,5,6])\n",
    "newarr = np.array_split(arr,3)\n",
    "print(newarr[0])\n",
    "print(newarr[1])\n",
    "print(newarr[2])"
   ]
  },
  {
   "cell_type": "code",
   "execution_count": 11,
   "id": "adf0856b",
   "metadata": {},
   "outputs": [
    {
     "name": "stdout",
     "output_type": "stream",
     "text": [
      "(array([3, 5, 6], dtype=int64),)\n"
     ]
    }
   ],
   "source": [
    "#fin the indexes where the value is 4:\n",
    "arr=np.array([1,2,3,4,5,4,4])\n",
    "x=np.where(arr == 4)\n",
    "print(x)"
   ]
  },
  {
   "cell_type": "code",
   "execution_count": 12,
   "id": "7df086fc",
   "metadata": {},
   "outputs": [
    {
     "name": "stdout",
     "output_type": "stream",
     "text": [
      "(array([1, 3, 5, 7], dtype=int64),)\n"
     ]
    }
   ],
   "source": [
    "#find the indexes where the values are even:\n",
    "arr= np.array([1,2,3,4,5,6,7,8])\n",
    "x= np.where(arr%2 == 0)\n",
    "print(x)"
   ]
  },
  {
   "cell_type": "code",
   "execution_count": 13,
   "id": "7aa3f19c",
   "metadata": {},
   "outputs": [
    {
     "name": "stdout",
     "output_type": "stream",
     "text": [
      "[0 1 2 3]\n"
     ]
    }
   ],
   "source": [
    "#sort the array:\n",
    "arr = np.array([3,2,0,1])\n",
    "print(np.sort(arr))"
   ]
  },
  {
   "cell_type": "code",
   "execution_count": 14,
   "id": "32a16497",
   "metadata": {},
   "outputs": [
    {
     "name": "stdout",
     "output_type": "stream",
     "text": [
      "[False, False, True, True]\n",
      "[43 44]\n"
     ]
    }
   ],
   "source": [
    "#create a filter array that will return only values higher than 42.\n",
    "arr = np.array([41,42,43,44])\n",
    "filter_arr=[]\n",
    "for element in arr:\n",
    "    if element > 42:\n",
    "        filter_arr.append(True)\n",
    "    else:\n",
    "        filter_arr.append(False)\n",
    "newarr = arr[filter_arr]\n",
    "print(filter_arr)\n",
    "print(newarr)"
   ]
  },
  {
   "cell_type": "code",
   "execution_count": 15,
   "id": "c81cc527",
   "metadata": {},
   "outputs": [
    {
     "name": "stdout",
     "output_type": "stream",
     "text": [
      "[5 7 7 7 7 3 7 7 3 7 7 7 3 5 5 7 5 3 7 7 7 7 7 7 5 7 5 3 7 5 7 3 7 7 7 7 5\n",
      " 3 5 7 3 7 7 7 7 7 7 3 3 7 7 5 7 3 7 7 5 3 7 3 7 7 3 7 7 5 5 7 7 7 7 5 7 5\n",
      " 7 7 5 7 7 7 7 7 7 7 7 7 7 3 5 5 7 7 7 7 7 7 5 7 5 7]\n"
     ]
    }
   ],
   "source": [
    "#generating 1-D array containing 100 values\n",
    "\n",
    "from numpy import random\n",
    "x=random.choice([3,5,7,9], p=[0.1, 0.3, 0.6, 0.0], size=(100))\n",
    "print(x)"
   ]
  },
  {
   "cell_type": "code",
   "execution_count": null,
   "id": "b219fe1e",
   "metadata": {},
   "outputs": [],
   "source": []
  }
 ],
 "metadata": {
  "kernelspec": {
   "display_name": "Python 3",
   "language": "python",
   "name": "python3"
  },
  "language_info": {
   "codemirror_mode": {
    "name": "ipython",
    "version": 3
   },
   "file_extension": ".py",
   "mimetype": "text/x-python",
   "name": "python",
   "nbconvert_exporter": "python",
   "pygments_lexer": "ipython3",
   "version": "3.8.8"
  }
 },
 "nbformat": 4,
 "nbformat_minor": 5
}
