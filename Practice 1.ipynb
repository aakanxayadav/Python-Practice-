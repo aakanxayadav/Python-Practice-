{
 "cells": [
  {
   "cell_type": "markdown",
   "id": "296b99d5",
   "metadata": {},
   "source": [
    "### Sanitary Test"
   ]
  },
  {
   "cell_type": "code",
   "execution_count": 1,
   "id": "b8f71e7a",
   "metadata": {},
   "outputs": [
    {
     "name": "stdout",
     "output_type": "stream",
     "text": [
      "Hello World\n"
     ]
    }
   ],
   "source": [
    "print('Hello World')"
   ]
  },
  {
   "cell_type": "markdown",
   "id": "681764c4",
   "metadata": {},
   "source": [
    "### Data Types"
   ]
  },
  {
   "cell_type": "code",
   "execution_count": 1,
   "id": "8872b43a",
   "metadata": {},
   "outputs": [
    {
     "name": "stdout",
     "output_type": "stream",
     "text": [
      "<class 'int'>\n",
      "=================================\n",
      "<class 'float'>\n",
      "=================================\n",
      "<class 'str'>\n",
      "=================================\n",
      "<class 'list'>\n",
      "=================================\n",
      "<class 'tuple'>\n",
      "=================================\n",
      "<class 'dict'>\n",
      "=================================\n",
      "<class 'set'>\n",
      "=================================\n"
     ]
    }
   ],
   "source": [
    "def seprator():\n",
    "    print(\"=================================\")\n",
    "\n",
    "x=10\n",
    "print(type(x))\n",
    "seprator()\n",
    "\n",
    "y=7.8\n",
    "print(type(y))\n",
    "seprator()\n",
    "\n",
    "z='Devang'\n",
    "print(type(z))\n",
    "seprator()\n",
    "\n",
    "a=[1,3,4]\n",
    "print(type(a))\n",
    "seprator()\n",
    "\n",
    "b=(2,5,6)\n",
    "print(type(b))\n",
    "seprator()\n",
    "\n",
    "c={'birth':1,'day':'Mon'}\n",
    "print(type(c))\n",
    "seprator()\n",
    "\n",
    "d={'akku', 'geet','alexa'}\n",
    "print(type(d))\n",
    "seprator()"
   ]
  },
  {
   "cell_type": "markdown",
   "id": "abffb3de",
   "metadata": {},
   "source": [
    "### List Operations"
   ]
  },
  {
   "cell_type": "code",
   "execution_count": 2,
   "id": "4db196d9",
   "metadata": {},
   "outputs": [
    {
     "name": "stdout",
     "output_type": "stream",
     "text": [
      "Dravid\n",
      "==================================================================\n",
      "5\n",
      "==================================================================\n",
      "['Aakanxa', 'Dravid', 'Virat', 'Harshal', 'Shubhman']\n",
      "==================================================================\n",
      "True\n"
     ]
    }
   ],
   "source": [
    "def sep():\n",
    "    print(\"==================================================================\")\n",
    "\n",
    "mylist= ['Aakanxa','Dravid','Virat','Dhoni','Shubhman']\n",
    "\n",
    "print (mylist[1])\n",
    "sep()\n",
    "\n",
    "print(len(mylist))\n",
    "sep()\n",
    "\n",
    "mylist[3] = 'Harshal'\n",
    "print(mylist)\n",
    "sep()\n",
    "\n",
    "if \"Aakanxa\" in mylist:\n",
    "    print (\"True\")\n",
    "    \n"
   ]
  },
  {
   "cell_type": "markdown",
   "id": "8441e9f7",
   "metadata": {},
   "source": [
    "### Slicing"
   ]
  },
  {
   "cell_type": "code",
   "execution_count": 3,
   "id": "8d3b3562",
   "metadata": {},
   "outputs": [
    {
     "name": "stdout",
     "output_type": "stream",
     "text": [
      "['Dravid', 'Virat']\n"
     ]
    }
   ],
   "source": [
    "mylist= ['Aakanxa', 'Dravid', 'Virat', 'Harshal', 'Shubhman']\n",
    "print (mylist[1:3])"
   ]
  },
  {
   "cell_type": "markdown",
   "id": "c5880500",
   "metadata": {},
   "source": [
    "### Append"
   ]
  },
  {
   "cell_type": "code",
   "execution_count": 4,
   "id": "f0793c2b",
   "metadata": {},
   "outputs": [
    {
     "name": "stdout",
     "output_type": "stream",
     "text": [
      "['Aakanxa', 'Dravid', 'Virat', 'Harshal', 'Shubhman', 'Dhoni']\n"
     ]
    }
   ],
   "source": [
    "mylist= ['Aakanxa', 'Dravid', 'Virat', 'Harshal', 'Shubhman']\n",
    "mylist.append('Dhoni')\n",
    "print(mylist)"
   ]
  },
  {
   "cell_type": "markdown",
   "id": "c41ae815",
   "metadata": {},
   "source": [
    "# Insert"
   ]
  },
  {
   "cell_type": "code",
   "execution_count": 17,
   "id": "1e9cc8ed",
   "metadata": {},
   "outputs": [
    {
     "name": "stdout",
     "output_type": "stream",
     "text": [
      "['Aakanxa', 'Dravid', 'isaac', 'Yuvraj', 'Harshal', 'Yuvraj', 'Harshal', 'Yuvraj', 'Harshal', 'Yuvraj', 'Harshal', 'Yuvraj', 'Harshal', 'Yuvraj', 'Harshal', 'Yuvraj', 'Harshal', 'Yuvraj', 'Harshal', 'Yuvraj', 'Virat', 'Harshal', 'Shubhman', 'Dhoni']\n"
     ]
    }
   ],
   "source": [
    "mylist.insert(2,\"isaac\")\n",
    "mylist.insert(3,\"Yuvraj\")\n",
    "print(mylist)"
   ]
  },
  {
   "cell_type": "markdown",
   "id": "3f6dd33c",
   "metadata": {},
   "source": [
    "### Extend"
   ]
  },
  {
   "cell_type": "code",
   "execution_count": 7,
   "id": "352791e3",
   "metadata": {},
   "outputs": [
    {
     "name": "stdout",
     "output_type": "stream",
     "text": [
      "['FoP', 'FoF', 'ITTS', 'PFM', 'SDA', 'EDA']\n"
     ]
    }
   ],
   "source": [
    "mylist1=['FoP','FoF','ITTS']\n",
    "mylist2=['PFM','SDA','EDA']\n",
    "mylist1.extend(mylist2)\n",
    "print(mylist1)"
   ]
  },
  {
   "cell_type": "markdown",
   "id": "5d2fd904",
   "metadata": {},
   "source": [
    "### PoP"
   ]
  },
  {
   "cell_type": "code",
   "execution_count": 3,
   "id": "c3910b24",
   "metadata": {},
   "outputs": [
    {
     "name": "stdout",
     "output_type": "stream",
     "text": [
      "['FoP', 'FoF', 'ITTS', 'PFM', 'SDA']\n"
     ]
    }
   ],
   "source": [
    "mylist=['FoP', 'FoF', 'ITTS', 'PFM', 'SDA', 'EDA']\n",
    "mylist.pop()\n",
    "print(mylist)"
   ]
  },
  {
   "cell_type": "markdown",
   "id": "82be1528",
   "metadata": {},
   "source": [
    "### Remove"
   ]
  },
  {
   "cell_type": "code",
   "execution_count": 10,
   "id": "d5ea5875",
   "metadata": {},
   "outputs": [
    {
     "name": "stdout",
     "output_type": "stream",
     "text": [
      "['FoP', 'FoF', 'PFM', 'SDA', 'EDA']\n"
     ]
    }
   ],
   "source": [
    "mylist=['FoP', 'FoF', 'ITTS', 'PFM', 'SDA', 'EDA']\n",
    "mylist.remove('ITTS')\n",
    "print(mylist)"
   ]
  },
  {
   "cell_type": "markdown",
   "id": "ef1cc1e4",
   "metadata": {},
   "source": [
    "### Clear "
   ]
  },
  {
   "cell_type": "code",
   "execution_count": 18,
   "id": "495242e1",
   "metadata": {},
   "outputs": [
    {
     "name": "stdout",
     "output_type": "stream",
     "text": [
      "[]\n"
     ]
    }
   ],
   "source": [
    "mylist=['Aakanxa', 'Dravid', 'Virat', 'Harshal', 'Shubhman']\n",
    "mylist.clear()\n",
    "print(mylist)"
   ]
  },
  {
   "cell_type": "markdown",
   "id": "bb07a332",
   "metadata": {},
   "source": [
    "### Count"
   ]
  },
  {
   "cell_type": "code",
   "execution_count": 20,
   "id": "38a059fa",
   "metadata": {},
   "outputs": [
    {
     "name": "stdout",
     "output_type": "stream",
     "text": [
      "0\n"
     ]
    }
   ],
   "source": [
    "mylist= ['Aakanxa', 'Dravid', 'Virat', 'Harshal', 'Shubhman']\n",
    "print(mylist.count('Yuvraj'))"
   ]
  },
  {
   "cell_type": "markdown",
   "id": "36fe2330",
   "metadata": {},
   "source": [
    "### Reverse"
   ]
  },
  {
   "cell_type": "code",
   "execution_count": 21,
   "id": "b3f03896",
   "metadata": {},
   "outputs": [
    {
     "name": "stdout",
     "output_type": "stream",
     "text": [
      "['Shubhman', 'Harshal', 'Virat', 'Dravid', 'Aakanxa']\n"
     ]
    }
   ],
   "source": [
    "mylist= ['Aakanxa', 'Dravid', 'Virat', 'Harshal', 'Shubhman']\n",
    "mylist.reverse()\n",
    "print(mylist)"
   ]
  },
  {
   "cell_type": "markdown",
   "id": "97b4337c",
   "metadata": {},
   "source": [
    "### Sort"
   ]
  },
  {
   "cell_type": "code",
   "execution_count": 22,
   "id": "070487a8",
   "metadata": {},
   "outputs": [
    {
     "name": "stdout",
     "output_type": "stream",
     "text": [
      "['Aakanxa', 'Dravid', 'Harshal', 'Shubhman', 'Virat']\n",
      "['Virat', 'Shubhman', 'Harshal', 'Dravid', 'Aakanxa']\n"
     ]
    }
   ],
   "source": [
    "my_list=['Aakanxa', 'Dravid', 'Virat', 'Harshal', 'Shubhman']\n",
    "my_list.sort()\n",
    "print(my_list)\n",
    "my_list.sort(reverse= True)\n",
    "print(my_list)"
   ]
  },
  {
   "cell_type": "markdown",
   "id": "eddab2be",
   "metadata": {},
   "source": [
    "## Dictionary"
   ]
  },
  {
   "cell_type": "code",
   "execution_count": 23,
   "id": "66261cb0",
   "metadata": {},
   "outputs": [
    {
     "name": "stdout",
     "output_type": "stream",
     "text": [
      "Captain America\n",
      "Chris Evans\n"
     ]
    }
   ],
   "source": [
    "mydict={'filmtype':\"Hollywood\", 'name':\"Captain America\", 'hero':\"Chris Evans\"}\n",
    "print(mydict['name'])\n",
    "print(mydict.get('hero'))"
   ]
  },
  {
   "cell_type": "markdown",
   "id": "ff720215",
   "metadata": {},
   "source": [
    "### Keys"
   ]
  },
  {
   "cell_type": "code",
   "execution_count": 24,
   "id": "afcb600f",
   "metadata": {},
   "outputs": [
    {
     "name": "stdout",
     "output_type": "stream",
     "text": [
      "dict_keys(['filmtype', 'name', 'hero'])\n"
     ]
    }
   ],
   "source": [
    "mydict={'filmtype':\"Hollywood\", 'name':\"Captain America\", 'hero':\"Chris Evans\"}\n",
    "print(mydict.keys())"
   ]
  },
  {
   "cell_type": "markdown",
   "id": "d29259ba",
   "metadata": {},
   "source": [
    "### Values"
   ]
  },
  {
   "cell_type": "code",
   "execution_count": 25,
   "id": "dff03d50",
   "metadata": {},
   "outputs": [
    {
     "name": "stdout",
     "output_type": "stream",
     "text": [
      "dict_values(['Hollywood', 'Captain America', 'Chris Evans'])\n"
     ]
    }
   ],
   "source": [
    "mydict={'filmtype':\"Hollywood\", 'name':\"Captain America\", 'hero':\"Chris Evans\"}\n",
    "print(mydict.values())"
   ]
  },
  {
   "cell_type": "markdown",
   "id": "919145d6",
   "metadata": {},
   "source": [
    "### Items"
   ]
  },
  {
   "cell_type": "code",
   "execution_count": 26,
   "id": "3082019e",
   "metadata": {},
   "outputs": [
    {
     "name": "stdout",
     "output_type": "stream",
     "text": [
      "dict_items([('filmtype', 'Hollywood'), ('name', 'Captain America'), ('hero', 'Chris Evans')])\n"
     ]
    }
   ],
   "source": [
    "mydict={'filmtype':\"Hollywood\", 'name':\"Captain America\", 'hero':\"Chris Evans\"}\n",
    "print(mydict.items())"
   ]
  },
  {
   "cell_type": "markdown",
   "id": "02c7d81e",
   "metadata": {},
   "source": [
    "## Operators"
   ]
  },
  {
   "cell_type": "markdown",
   "id": "22da1cdb",
   "metadata": {},
   "source": [
    "### Arithmatic Operator"
   ]
  },
  {
   "cell_type": "code",
   "execution_count": 29,
   "id": "0b46e553",
   "metadata": {},
   "outputs": [
    {
     "name": "stdout",
     "output_type": "stream",
     "text": [
      "Addition: 8\n",
      "subtraction: 6\n",
      "multiplication: 42\n",
      "division: 5.0\n",
      "floor division: 3\n",
      "modulo: 1\n",
      "exponentiation: 16\n"
     ]
    }
   ],
   "source": [
    "# Addition\n",
    "add = 5 + 3\n",
    "\n",
    "# Subtraction\n",
    "sub = 10 - 4\n",
    "\n",
    "# Multiplication\n",
    "mul = 6 * 7\n",
    "\n",
    "# Division\n",
    "div = 15 / 3  # Result will be a floating-point number\n",
    "\n",
    "# Floor Division\n",
    "fd = 15 // 4  # Result will be an integer (floor division)\n",
    "\n",
    "# Modulo (Remainder)\n",
    "md = 17 % 4\n",
    "\n",
    "# Exponentiation\n",
    "x = 2 ** 4  # 2 raised to the power of 4\n",
    "\n",
    "print('Addition:', add)\n",
    "print('subtraction:',sub)\n",
    "print('multiplication:',mul)\n",
    "print('division:',div)\n",
    "print('floor division:',fd)\n",
    "print('modulo:',md)\n",
    "print('exponentiation:',x)"
   ]
  },
  {
   "cell_type": "markdown",
   "id": "b2bbc4b6",
   "metadata": {},
   "source": [
    "### Logical Operator"
   ]
  },
  {
   "cell_type": "code",
   "execution_count": 30,
   "id": "8b8dfa1f",
   "metadata": {},
   "outputs": [
    {
     "name": "stdout",
     "output_type": "stream",
     "text": [
      "False\n",
      "True\n",
      "False\n",
      "True\n"
     ]
    }
   ],
   "source": [
    "x = True\n",
    "y = False\n",
    "z = True\n",
    "\n",
    "#and operator\n",
    "result = x and y\n",
    "print(result)  \n",
    "\n",
    "#or operator\n",
    "result = x or y\n",
    "print(result) \n",
    "\n",
    "#not operator\n",
    "result = not x\n",
    "print(result)  \n",
    "\n",
    "result = (x and y) or z\n",
    "print(result)  \n"
   ]
  },
  {
   "cell_type": "markdown",
   "id": "0eb2e2d1",
   "metadata": {},
   "source": [
    "### Identity Operator"
   ]
  },
  {
   "cell_type": "code",
   "execution_count": 31,
   "id": "d8516b56",
   "metadata": {},
   "outputs": [
    {
     "name": "stdout",
     "output_type": "stream",
     "text": [
      "False\n",
      "True\n"
     ]
    }
   ],
   "source": [
    "#is and isnot\n",
    "\n",
    "list1 = [1, 2, 3]\n",
    "list2 = [1, 2, 3]\n",
    "\n",
    "print(list1 is list2) \n",
    "print(list1 is not list2)  "
   ]
  },
  {
   "cell_type": "markdown",
   "id": "2b90eb8b",
   "metadata": {},
   "source": [
    "### Member Operator"
   ]
  },
  {
   "cell_type": "code",
   "execution_count": 37,
   "id": "555b2f47",
   "metadata": {},
   "outputs": [
    {
     "name": "stdout",
     "output_type": "stream",
     "text": [
      "banana is in the list.\n"
     ]
    }
   ],
   "source": [
    "#in, not in\n",
    "fruits = [\"apple\", \"banana\", \"cherry\", \"date\"]\n",
    "search_fruit = \"banana\"\n",
    "\n",
    "if search_fruit in fruits:\n",
    "    print(f\"{search_fruit} is in the list.\")\n",
    "else:\n",
    "    print(f\"{search_fruit} is not in the list.\")"
   ]
  },
  {
   "cell_type": "markdown",
   "id": "58788ba6",
   "metadata": {},
   "source": [
    "### Conditional Operator"
   ]
  },
  {
   "cell_type": "code",
   "execution_count": 28,
   "id": "7036d798",
   "metadata": {},
   "outputs": [
    {
     "name": "stdout",
     "output_type": "stream",
     "text": [
      "Name of Student: Aakanxa Yadav\n",
      "Book Name: business statistics\n",
      "Author Name: N D VOHRA\n",
      "Day Count: 100\n",
      "Fine amount: Rs  4749\n"
     ]
    }
   ],
   "source": [
    "#if,elif and else\n",
    "name=input(\"Name of Student: \")\n",
    "Book=input(\"Book Name: \")\n",
    "Author=input(\"Author Name: \")\n",
    "x=int(input('Day Count: '))\n",
    "\n",
    "if x<=15:\n",
    "    print('Fine amount: Rs 0')\n",
    "elif x>15 and x<=22:\n",
    "    print('Fine amount: Rs',(x-15)*2)\n",
    "elif x>22 and x<=29:\n",
    "    print('Fine amount: Rs ',14+(x-22)*5)\n",
    "elif x>29 and x<=59:\n",
    "    print('Fine amount: Rs ',49+(x-29)*20)\n",
    "else:\n",
    "    print('Fine amount: Rs ',649+(x-59)*100)"
   ]
  },
  {
   "cell_type": "markdown",
   "id": "6e7f3e19",
   "metadata": {},
   "source": [
    "### For Loop"
   ]
  },
  {
   "cell_type": "code",
   "execution_count": 29,
   "id": "5281727c",
   "metadata": {},
   "outputs": [
    {
     "name": "stdout",
     "output_type": "stream",
     "text": [
      "Yuvraj\n",
      "Dravid\n",
      "Virat\n",
      "Harshal\n",
      "Shubhman\n"
     ]
    }
   ],
   "source": [
    "mylist= ['Yuvraj', 'Dravid', 'Virat', 'Harshal', 'Shubhman'] \n",
    "for list_item in mylist:\n",
    "    print(list_item)"
   ]
  },
  {
   "cell_type": "code",
   "execution_count": 43,
   "id": "e936d4d5",
   "metadata": {},
   "outputs": [
    {
     "name": "stdout",
     "output_type": "stream",
     "text": [
      "2\n",
      "5\n",
      "8\n"
     ]
    }
   ],
   "source": [
    "mylist=[(1,2,3),(4,5,6),(7,8,9)]\n",
    "for list_item in mylist:\n",
    "    print(list_item[1])"
   ]
  },
  {
   "cell_type": "code",
   "execution_count": 44,
   "id": "d7d31e23",
   "metadata": {},
   "outputs": [
    {
     "name": "stdout",
     "output_type": "stream",
     "text": [
      "3\n",
      "6\n",
      "9\n"
     ]
    }
   ],
   "source": [
    "mylist=[(1,2,3),(4,5,6),(7,8,9)]\n",
    "for x,y,z in mylist:\n",
    "    print(z)"
   ]
  },
  {
   "cell_type": "code",
   "execution_count": 48,
   "id": "6d705a8d",
   "metadata": {},
   "outputs": [
    {
     "name": "stdout",
     "output_type": "stream",
     "text": [
      "0\n",
      "1\n",
      "2\n",
      "3\n",
      "4\n",
      "5\n",
      "6\n"
     ]
    }
   ],
   "source": [
    "for list_item in range(7):\n",
    "    print (list_item)"
   ]
  },
  {
   "cell_type": "code",
   "execution_count": 8,
   "id": "6c6bed90",
   "metadata": {},
   "outputs": [
    {
     "name": "stdout",
     "output_type": "stream",
     "text": [
      "2\n",
      "4\n",
      "6\n",
      "8\n",
      "10\n",
      "12\n",
      "14\n",
      "16\n",
      "18\n",
      "20\n",
      "22\n",
      "24\n",
      "26\n",
      "28\n",
      "30\n",
      "32\n",
      "34\n",
      "36\n",
      "38\n",
      "40\n",
      "42\n",
      "44\n",
      "46\n",
      "48\n"
     ]
    }
   ],
   "source": [
    "#even number\n",
    "for x in range(1,50):\n",
    "    if(x % 2==0):\n",
    "        print(x)"
   ]
  },
  {
   "cell_type": "code",
   "execution_count": 6,
   "id": "7530f4fb",
   "metadata": {},
   "outputs": [
    {
     "name": "stdout",
     "output_type": "stream",
     "text": [
      "1\n",
      "3\n",
      "5\n",
      "7\n",
      "9\n",
      "11\n",
      "13\n",
      "15\n",
      "17\n",
      "19\n"
     ]
    }
   ],
   "source": [
    "n=20\n",
    "for i in range(1,n+1,2):\n",
    "    print(i)"
   ]
  },
  {
   "cell_type": "markdown",
   "id": "89a9ad91",
   "metadata": {},
   "source": [
    "### While Loop"
   ]
  },
  {
   "cell_type": "code",
   "execution_count": 50,
   "id": "05e2beb3",
   "metadata": {},
   "outputs": [
    {
     "name": "stdout",
     "output_type": "stream",
     "text": [
      "0\n",
      "1\n",
      "2\n",
      "3\n",
      "4\n",
      "5\n",
      "6\n"
     ]
    }
   ],
   "source": [
    "x=0\n",
    "while x<7:\n",
    "    print(x)\n",
    "    x+=1"
   ]
  },
  {
   "cell_type": "markdown",
   "id": "31a44b33",
   "metadata": {},
   "source": [
    "### Break"
   ]
  },
  {
   "cell_type": "code",
   "execution_count": 54,
   "id": "6d6a79ac",
   "metadata": {},
   "outputs": [
    {
     "name": "stdout",
     "output_type": "stream",
     "text": [
      "0\n",
      "1\n",
      "2\n",
      "3\n",
      "4\n"
     ]
    }
   ],
   "source": [
    "for x in range(9):\n",
    "    if x==5:\n",
    "        break\n",
    "    print(x)"
   ]
  },
  {
   "cell_type": "markdown",
   "id": "d9b5bbd5",
   "metadata": {},
   "source": [
    "### Continue"
   ]
  },
  {
   "cell_type": "code",
   "execution_count": 55,
   "id": "1904744b",
   "metadata": {},
   "outputs": [
    {
     "name": "stdout",
     "output_type": "stream",
     "text": [
      "0\n",
      "1\n",
      "2\n",
      "3\n",
      "4\n",
      "6\n",
      "7\n",
      "8\n"
     ]
    }
   ],
   "source": [
    "for x in range(9):\n",
    "    if x==5:\n",
    "        continue\n",
    "    print(x)"
   ]
  },
  {
   "cell_type": "code",
   "execution_count": 3,
   "id": "7ab3124f",
   "metadata": {
    "scrolled": true
   },
   "outputs": [
    {
     "name": "stdout",
     "output_type": "stream",
     "text": [
      "0\n",
      "1\n",
      "2\n",
      "3\n",
      "4\n",
      "5\n",
      "6\n",
      "7\n",
      "8\n"
     ]
    }
   ],
   "source": [
    "for x in range(9):\n",
    "    if x==5:\n",
    "        pass\n",
    "    print(x)"
   ]
  },
  {
   "cell_type": "markdown",
   "id": "1638d9bf",
   "metadata": {},
   "source": [
    "### Function"
   ]
  },
  {
   "cell_type": "code",
   "execution_count": 32,
   "id": "baac0140",
   "metadata": {},
   "outputs": [
    {
     "name": "stdout",
     "output_type": "stream",
     "text": [
      "Hello!\n",
      "==============================\n",
      "Kem Chho tame?\n",
      "==============================\n",
      "ekdum majama! tame kyo?\n",
      "==============================\n",
      "bas jem tame em ame!\n"
     ]
    }
   ],
   "source": [
    "def sep():\n",
    "    print(\"==============================\")\n",
    "    \n",
    "print('Hello!')\n",
    "sep()\n",
    "\n",
    "print('Kem Chho tame?')\n",
    "sep()\n",
    "\n",
    "print('ekdum majama! tame kyo?')\n",
    "sep()\n",
    "\n",
    "print('bas jem tame em ame!')"
   ]
  },
  {
   "cell_type": "code",
   "execution_count": null,
   "id": "4cef2ede",
   "metadata": {},
   "outputs": [],
   "source": []
  }
 ],
 "metadata": {
  "kernelspec": {
   "display_name": "Python 3",
   "language": "python",
   "name": "python3"
  },
  "language_info": {
   "codemirror_mode": {
    "name": "ipython",
    "version": 3
   },
   "file_extension": ".py",
   "mimetype": "text/x-python",
   "name": "python",
   "nbconvert_exporter": "python",
   "pygments_lexer": "ipython3",
   "version": "3.8.8"
  }
 },
 "nbformat": 4,
 "nbformat_minor": 5
}
